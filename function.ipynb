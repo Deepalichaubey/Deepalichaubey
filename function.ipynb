{
  "nbformat": 4,
  "nbformat_minor": 0,
  "metadata": {
    "colab": {
      "provenance": [],
      "authorship_tag": "ABX9TyNUb4G+yA5inVn99CKdeOIO",
      "include_colab_link": true
    },
    "kernelspec": {
      "name": "python3",
      "display_name": "Python 3"
    },
    "language_info": {
      "name": "python"
    }
  },
  "cells": [
    {
      "cell_type": "markdown",
      "metadata": {
        "id": "view-in-github",
        "colab_type": "text"
      },
      "source": [
        "<a href=\"https://colab.research.google.com/github/Deepalichaubey/Deepalichaubey/blob/main/function.ipynb\" target=\"_parent\"><img src=\"https://colab.research.google.com/assets/colab-badge.svg\" alt=\"Open In Colab\"/></a>"
      ]
    },
    {
      "cell_type": "code",
      "source": [
        "#Ques- 1.What is the difference between a function and a method in Python?\n",
        "\n",
        "#Ans- A function is a collection of lines of code that accomplishes a specific task.\n",
        "#Functions can be created using the def keyword.\n",
        "#They have a name, optional parameters, and an optional return statement.\n",
        "#Functions are executed only when called.\n",
        "\n",
        "#Example of defining a function\n",
        "def add(a, b):\n",
        "    return a + b"
      ],
      "metadata": {
        "id": "2xzO2OxtdLCH"
      },
      "execution_count": null,
      "outputs": []
    },
    {
      "cell_type": "code",
      "source": [
        "#calling a function\n",
        "print(add(2, 3))"
      ],
      "metadata": {
        "colab": {
          "base_uri": "https://localhost:8080/"
        },
        "id": "kBbHrf0PfYui",
        "outputId": "f6c9b538-09ce-4f3b-961a-30fec795be9a"
      },
      "execution_count": null,
      "outputs": [
        {
          "output_type": "execute_result",
          "data": {
            "text/plain": [
              "5"
            ]
          },
          "metadata": {},
          "execution_count": 10
        }
      ]
    },
    {
      "cell_type": "code",
      "execution_count": null,
      "metadata": {
        "id": "E6XsekosbEkz"
      },
      "outputs": [],
      "source": [
        "#Example of Method\n",
        "class Calculator:\n",
        "    def add(self, a, b):\n",
        "        return a + b"
      ]
    },
    {
      "cell_type": "code",
      "source": [
        "#calling a method\n",
        "calc = Calculator()\n",
        "print(calc.add(2, 3))"
      ],
      "metadata": {
        "colab": {
          "base_uri": "https://localhost:8080/"
        },
        "id": "nEkXpQC-dy4h",
        "outputId": "49b8cc2a-89d7-4cd3-c778-80cfface841a"
      },
      "execution_count": null,
      "outputs": [
        {
          "output_type": "stream",
          "name": "stdout",
          "text": [
            "5\n"
          ]
        }
      ]
    },
    {
      "cell_type": "code",
      "source": [
        "#Ques- 2.Explain the concept of function arguments and parameters in Python.\n",
        "#Ans-The concept of function arguments and parameters:\n",
        "#Paramerters:-Parameters are the variables listed inside the parentheses in the function definition. They act as placeholders for the values that will be passed to the function.\n",
        "\n",
        "#Example of Parameter\n",
        "def greet(name):\n",
        "    print(f\"Hello, {name}!\")\n",
        "# Here, name is a parameter."
      ],
      "metadata": {
        "id": "Yl70a8Q4fEON"
      },
      "execution_count": null,
      "outputs": []
    },
    {
      "cell_type": "code",
      "source": [
        "# Argument:-Arguments are the actual values passed to the function when it is called.\n",
        "\n",
        "#Example of Argument:\n",
        "\n",
        "greet(\"Deepali\")\n",
        "\n",
        "#Here, Deepali is an Argument"
      ],
      "metadata": {
        "colab": {
          "base_uri": "https://localhost:8080/"
        },
        "id": "M2rI2jiMh-ji",
        "outputId": "1332366a-df2a-4185-ed23-6205560dd787"
      },
      "execution_count": null,
      "outputs": [
        {
          "output_type": "stream",
          "name": "stdout",
          "text": [
            "Hello, Deepali!\n"
          ]
        }
      ]
    },
    {
      "cell_type": "code",
      "source": [
        "# Positional Arguments:-\n",
        "\n",
        "# Example of Positional Arguments:\n",
        "\n",
        "def add(a, b):\n",
        "    return a + b\n",
        "\n",
        "print(add(4, 3))\n",
        "\n",
        "# Here, 4 and 3 are positional arguments"
      ],
      "metadata": {
        "colab": {
          "base_uri": "https://localhost:8080/"
        },
        "id": "P822A2bLiUlJ",
        "outputId": "12a73c75-0156-4c3a-912c-4d7cf5cbd34c"
      },
      "execution_count": null,
      "outputs": [
        {
          "output_type": "stream",
          "name": "stdout",
          "text": [
            "7\n"
          ]
        }
      ]
    },
    {
      "cell_type": "code",
      "source": [
        "# Keyword Arguments:-\n",
        "\n",
        "#Example of Keyword Arguments:\n",
        "\n",
        "def display_info(first_name, last_name):\n",
        "    print(f\"First Name: {first_name}\")\n",
        "    print(f\"Last Name: {last_name}\")\n",
        "\n",
        "display_info(last_name=\"Deepali\", first_name=\"Chaubey\")"
      ],
      "metadata": {
        "colab": {
          "base_uri": "https://localhost:8080/"
        },
        "id": "03zqu-RHjATP",
        "outputId": "84a2b314-f16f-4f6d-91f8-2cbc51032c42"
      },
      "execution_count": null,
      "outputs": [
        {
          "output_type": "stream",
          "name": "stdout",
          "text": [
            "First Name: Chaubey\n",
            "Last Name: Deepali\n"
          ]
        }
      ]
    },
    {
      "cell_type": "code",
      "source": [
        "# Default Arguments:-\n",
        "\n",
        "#Example of Default Arguments\n",
        "def greet(name=\"Neelam\"):\n",
        "    print(f\"Hello, {name}!\")\n",
        "\n",
        "greet()"
      ],
      "metadata": {
        "colab": {
          "base_uri": "https://localhost:8080/"
        },
        "id": "5d9tZtEnj7WX",
        "outputId": "08617403-0e16-4a52-ab3a-f10a9d73e737"
      },
      "execution_count": null,
      "outputs": [
        {
          "output_type": "stream",
          "name": "stdout",
          "text": [
            "Hello, Neelam!\n"
          ]
        }
      ]
    },
    {
      "cell_type": "code",
      "source": [
        "# Variable-length Arguments:-\n",
        "\n",
        "# Example of Positional Variable-length Arguments\n",
        "def add(*numbers):\n",
        "    total = 0\n",
        "    for num in numbers:\n",
        "        total += num\n",
        "    return total\n",
        "\n",
        "print(add(5, 2, 3))"
      ],
      "metadata": {
        "colab": {
          "base_uri": "https://localhost:8080/"
        },
        "id": "umh21K6Tkjtk",
        "outputId": "55df8e54-cadd-404f-a227-5e1bb05ac27e"
      },
      "execution_count": null,
      "outputs": [
        {
          "output_type": "stream",
          "name": "stdout",
          "text": [
            "10\n"
          ]
        }
      ]
    },
    {
      "cell_type": "code",
      "source": [
        "# Example of Keyword Variable-length Arguments\n",
        "def display_info(**info):\n",
        "    for key, value in info.items():\n",
        "        print(f\"{key}: {value}\")\n",
        "\n",
        "display_info(name=\"Deepali\", age=22)\n"
      ],
      "metadata": {
        "colab": {
          "base_uri": "https://localhost:8080/"
        },
        "id": "XcR2pvtElgk-",
        "outputId": "e643dd29-832a-4f56-fc7d-c9263a77a956"
      },
      "execution_count": null,
      "outputs": [
        {
          "output_type": "stream",
          "name": "stdout",
          "text": [
            "name: Deepali\n",
            "age: 22\n"
          ]
        }
      ]
    },
    {
      "cell_type": "code",
      "source": [
        "# Ques:-3.what are the different ways to define and call a function in python?\n",
        "# Ans- There are several ways to define and call functions. Here are some common methods:\n",
        "\n",
        "##Defining Functions-\n",
        "\n",
        "#Basic Function :\n",
        "def greet(name):\n",
        "    print(f\"Hello, {name}!\")"
      ],
      "metadata": {
        "id": "jSGMWTYBl6ZT"
      },
      "execution_count": null,
      "outputs": []
    },
    {
      "cell_type": "code",
      "source": [
        "#Function with Default Arguments:\n",
        "def greet(name=\"World\"):\n",
        "    print(f\"Hello, {name}!\")"
      ],
      "metadata": {
        "id": "eV8ZzlQewv3R"
      },
      "execution_count": null,
      "outputs": []
    },
    {
      "cell_type": "code",
      "source": [
        "#Lambda Functions:\n",
        "greet = lambda name: print(f\"Hello, {name}!\")"
      ],
      "metadata": {
        "id": "wrRxEixOxKOF"
      },
      "execution_count": null,
      "outputs": []
    },
    {
      "cell_type": "code",
      "source": [
        "#Nested Functions:\n",
        "def outer_function(text):\n",
        "    def inner_function():\n",
        "        print(text)\n",
        "    inner_function()"
      ],
      "metadata": {
        "id": "Yju_SuzFxejM"
      },
      "execution_count": null,
      "outputs": []
    },
    {
      "cell_type": "code",
      "source": [
        "## Calling Functions-\n",
        "\n",
        "#Calling Basic Function:\n",
        "greet(\"Pooja\")"
      ],
      "metadata": {
        "colab": {
          "base_uri": "https://localhost:8080/"
        },
        "id": "vjd5Ta8OxqAy",
        "outputId": "2feb8439-6dc6-4ed7-a138-175b05246110"
      },
      "execution_count": null,
      "outputs": [
        {
          "output_type": "stream",
          "name": "stdout",
          "text": [
            "Hello, Pooja!\n"
          ]
        }
      ]
    },
    {
      "cell_type": "code",
      "source": [
        "#Calling a Function with Default Arguments:\n",
        "greet()"
      ],
      "metadata": {
        "colab": {
          "base_uri": "https://localhost:8080/"
        },
        "id": "hdYvCrUnyX7q",
        "outputId": "247c2761-1fd8-43c6-ce6d-1b5b17c2ce28"
      },
      "execution_count": null,
      "outputs": [
        {
          "output_type": "stream",
          "name": "stdout",
          "text": [
            "Hello, World!\n"
          ]
        }
      ]
    },
    {
      "cell_type": "code",
      "source": [
        "#Calling a Lambda Functions:\n",
        "greet(\"Bob\")"
      ],
      "metadata": {
        "colab": {
          "base_uri": "https://localhost:8080/"
        },
        "id": "MvRpdz63yeRd",
        "outputId": "21ea75bf-8a73-4b97-86bb-41dbefb0605b"
      },
      "execution_count": null,
      "outputs": [
        {
          "output_type": "stream",
          "name": "stdout",
          "text": [
            "Hello, Bob!\n"
          ]
        }
      ]
    },
    {
      "cell_type": "code",
      "source": [
        "#Calling a Nested Functions:\n",
        "outer_function(\"Hello from Deepali!\")"
      ],
      "metadata": {
        "colab": {
          "base_uri": "https://localhost:8080/"
        },
        "id": "BbJbPgjeyfAW",
        "outputId": "d70a3d1f-bd45-43e2-e9a1-b928dded205c"
      },
      "execution_count": null,
      "outputs": [
        {
          "output_type": "stream",
          "name": "stdout",
          "text": [
            "Hello from Deepali!\n"
          ]
        }
      ]
    },
    {
      "cell_type": "code",
      "source": [
        "#Using Function as an Argument:\n",
        "def call_function(func, arg):\n",
        "    func(arg)\n",
        "\n",
        "call_function(greet, \"Raghav\")"
      ],
      "metadata": {
        "colab": {
          "base_uri": "https://localhost:8080/"
        },
        "id": "ACqp_4uQyfNN",
        "outputId": "d2e9d7d7-71c4-4ef6-d33e-e71b84c78576"
      },
      "execution_count": null,
      "outputs": [
        {
          "output_type": "stream",
          "name": "stdout",
          "text": [
            "Hello, Raghav!\n"
          ]
        }
      ]
    },
    {
      "cell_type": "code",
      "source": [
        "# Calling Function from Another Function:\n",
        "def another_greet(name):\n",
        "    greet(name)\n",
        "\n",
        "another_greet(\"Deepali\")"
      ],
      "metadata": {
        "colab": {
          "base_uri": "https://localhost:8080/"
        },
        "id": "JIHYbxDUyfas",
        "outputId": "d7e8aba8-04a2-4839-cbd0-a2b28eb4681f"
      },
      "execution_count": null,
      "outputs": [
        {
          "output_type": "stream",
          "name": "stdout",
          "text": [
            "Hello, Deepali!\n"
          ]
        }
      ]
    },
    {
      "cell_type": "code",
      "source": [
        "# Ques:-4.What is the purpose of the `return` statement in a Python function?\n",
        "# Ans-The `return` statement in a Python function serves several important purposes:\n",
        "\n",
        "#1.Exiting a Function: It immediately terminates the function’s execution and returns control to the calling code.\n",
        "def greet(name):\n",
        "    return f\"Hello, {name}!\""
      ],
      "metadata": {
        "id": "33qYlxcSz8yP"
      },
      "execution_count": null,
      "outputs": []
    },
    {
      "cell_type": "code",
      "source": [
        "#2.Returns a Value: It allows you to send a value back to the caller. This value can be of any data type, such as integers, strings, lists, or even other functions.\n",
        "def add_numbers(a, b):\n",
        "    return a + b\n",
        "\n",
        "result = add_numbers(3, 5)\n",
        "print(result)"
      ],
      "metadata": {
        "id": "QnB7k_JU1s4y",
        "colab": {
          "base_uri": "https://localhost:8080/"
        },
        "outputId": "11977ca6-27f3-4d49-bbf9-c88991a6eb93"
      },
      "execution_count": null,
      "outputs": [
        {
          "output_type": "stream",
          "name": "stdout",
          "text": [
            "8\n"
          ]
        }
      ]
    },
    {
      "cell_type": "code",
      "source": [
        "#3.Ending Function Execution Early: It can be used to exit a function before it reaches the end\n",
        "def check_even(number):\n",
        "    if number % 2 == 0:\n",
        "        return True\n",
        "    return False"
      ],
      "metadata": {
        "id": "QIewkWae1tNc"
      },
      "execution_count": null,
      "outputs": []
    },
    {
      "cell_type": "code",
      "source": [
        "#4.Returning Multiple Values: You can return multiple values as a tuple\n",
        "def get_coordinates():\n",
        "    return 10, 20\n",
        "\n",
        "x, y = get_coordinates()\n",
        "print(x, y)"
      ],
      "metadata": {
        "colab": {
          "base_uri": "https://localhost:8080/"
        },
        "id": "gAD1KJXr8o50",
        "outputId": "f22d2b48-81c5-47b7-f475-71c106a305d0"
      },
      "execution_count": null,
      "outputs": [
        {
          "output_type": "stream",
          "name": "stdout",
          "text": [
            "10 20\n"
          ]
        }
      ]
    },
    {
      "cell_type": "code",
      "source": [
        "#5.Returning None: If no value is specified, return will return None by default.\n",
        "def do_nothing():\n",
        "    return\n",
        "\n",
        "result = do_nothing()\n",
        "print(result)"
      ],
      "metadata": {
        "id": "Wd_WR64a8pFQ",
        "colab": {
          "base_uri": "https://localhost:8080/"
        },
        "outputId": "15f4b804-473f-46af-fbe9-3d7e35aec2ff"
      },
      "execution_count": null,
      "outputs": [
        {
          "output_type": "stream",
          "name": "stdout",
          "text": [
            "None\n"
          ]
        }
      ]
    },
    {
      "cell_type": "code",
      "source": [
        "#Ques-5.What are iterators in Python and how do they differ from iterables?\n",
        "#Ans- Iterators and  Iterables are closely related but serve different purposes in the iteration process.\n",
        "\n",
        "### Iterables ###\n",
        "# An iterableis any Python object capable of returning its members one at a time, allowing it to be looped over. Examples include lists, tuples, strings, and dictionaries.\n",
        "#To be considered an iterable, an object must implement the '__iter__()' method, which returns an iterator.\n",
        "\n",
        "### Iterators\n",
        "# An iterator is an object that represents a stream of data. It is used to traverse through all the elements of a collection, one element at a time.\n",
        "# Iterators implement two methods: '__iter__()' and '__next__()'. The '__next__()' method returns the next item in the sequence and raises a `StopIteration` exception when no more items are available.\n",
        "# You can create an iterator from an iterable using the `iter()` function.\n",
        "\n",
        "### Key Differences\n",
        "#1.Creation:\n",
        "#Iterable: Any object with an '__iter__()' method.\n",
        "#Iterator: Any object with both '__iter__()' and '__next__()' methods.\n",
        "\n",
        "#2.Functionality:\n",
        "#Iterable: Can be passed to the 'iter()' function to get an iterator.\n",
        "#Iterator: Can be used with the 'next()' function to fetch elements one at a time until `StopIteration` is raised.\n",
        "\n",
        "#3.Usage:\n",
        "#Iterable: Suitable for looping constructs like 'for' loops.\n",
        "#Iterator: Suitable for manual iteration using 'next()'.\n"
      ],
      "metadata": {
        "id": "MvCS9TjiUtEb"
      },
      "execution_count": null,
      "outputs": []
    },
    {
      "cell_type": "code",
      "source": [
        "#Here's a simple example:\n",
        "\n",
        "# Iterable example\n",
        "my_list = [1, 2, 3]\n",
        "for item in my_list:\n",
        "    print(item)"
      ],
      "metadata": {
        "colab": {
          "base_uri": "https://localhost:8080/"
        },
        "id": "V9CYeHA1W3hr",
        "outputId": "dbe2dac9-adb6-418d-a33e-8b8590149323"
      },
      "execution_count": null,
      "outputs": [
        {
          "output_type": "stream",
          "name": "stdout",
          "text": [
            "1\n",
            "2\n",
            "3\n"
          ]
        }
      ]
    },
    {
      "cell_type": "code",
      "source": [
        "# Iterator example\n",
        "my_iterator = iter(my_list)\n",
        "print(next(my_iterator))  # Output: 1\n",
        "print(next(my_iterator))  # Output: 2\n",
        "print(next(my_iterator))  # Output: 3\n",
        "# next(my_iterator) would raise StopIteration"
      ],
      "metadata": {
        "colab": {
          "base_uri": "https://localhost:8080/"
        },
        "id": "CiKR1VCmWiQx",
        "outputId": "244c1de2-59db-48d0-bb22-3ca69c875841"
      },
      "execution_count": null,
      "outputs": [
        {
          "output_type": "stream",
          "name": "stdout",
          "text": [
            "1\n",
            "2\n",
            "3\n"
          ]
        }
      ]
    },
    {
      "cell_type": "code",
      "source": [
        "#Ques-6.Explain the concept of generators in Python and how they are defined?\n",
        "#Ans-Generators in Python are a special type of function that allow you to iterate over a sequence of values without storing the entire sequence in memory. This makes them memory-efficient and ideal for handling large datasets or streams of data.\n",
        "\n",
        "##How Generators Work:\n",
        "#Generators are defined using the def keyword, just like regular functions, but instead of using the return statement to return a value, they use the yield statement. When a generator function is called, it returns a generator object that can be iterated over."
      ],
      "metadata": {
        "id": "tjt-7IZ1WyC7"
      },
      "execution_count": null,
      "outputs": []
    },
    {
      "cell_type": "code",
      "source": [
        "#Defining a Generator:\n",
        "\n",
        "#Here’s a simple example of a generator function:\n",
        "def simple_generator():\n",
        "    yield 1\n",
        "    yield 2\n",
        "    yield 3\n",
        "\n",
        "# Using the generator\n",
        "for value in simple_generator():\n",
        "    print(value)\n",
        "\n",
        "#the simple_generator function yields three values, one at a time. When you iterate over the generator, it produces these values sequentially."
      ],
      "metadata": {
        "colab": {
          "base_uri": "https://localhost:8080/"
        },
        "id": "SwxXYULjZMOc",
        "outputId": "16f3c28a-24db-411a-caf1-48b22fced7f7"
      },
      "execution_count": null,
      "outputs": [
        {
          "output_type": "stream",
          "name": "stdout",
          "text": [
            "1\n",
            "2\n",
            "3\n"
          ]
        }
      ]
    },
    {
      "cell_type": "code",
      "source": [
        "#Generator Objects\n",
        "#A generator object is an iterator, meaning you can use it in a for loop or with the next() function to get the next value:\n",
        "gen = simple_generator()\n",
        "print(next(gen))\n",
        "print(next(gen))\n",
        "print(next(gen))"
      ],
      "metadata": {
        "colab": {
          "base_uri": "https://localhost:8080/"
        },
        "id": "XKnez_6wZMaj",
        "outputId": "34bb75bc-1383-4a6d-9a24-42f456120589"
      },
      "execution_count": null,
      "outputs": [
        {
          "output_type": "stream",
          "name": "stdout",
          "text": [
            "1\n",
            "2\n",
            "3\n"
          ]
        }
      ]
    },
    {
      "cell_type": "code",
      "source": [
        "#Generator Expressions\n",
        "#Python also supports generator expressions, which are a concise way to create generators. They are similar to list comprehensions but use parentheses instead of square brackets:\n",
        "\n",
        "gen_exp = (x * x for x in range(5))\n",
        "for value in gen_exp:\n",
        "    print(value)\n",
        "\n",
        "#This generator expression will yield the squares of numbers from 0 to 4"
      ],
      "metadata": {
        "colab": {
          "base_uri": "https://localhost:8080/"
        },
        "id": "sSyP6tZxZMlN",
        "outputId": "ff165dbe-c722-4b98-8c28-cc01f97e54ae"
      },
      "execution_count": null,
      "outputs": [
        {
          "output_type": "stream",
          "name": "stdout",
          "text": [
            "0\n",
            "1\n",
            "4\n",
            "9\n",
            "16\n"
          ]
        }
      ]
    },
    {
      "cell_type": "code",
      "source": [
        "#Ques-7.What are the advantages of using generators over regular functions?\n",
        "#Ans-Generators in Python offer several advantages over regular functions, particularly when dealing with large datasets or streams of data. Here are some key benefits along with examples:\n"
      ],
      "metadata": {
        "id": "wAIybIE9aGUk"
      },
      "execution_count": null,
      "outputs": []
    },
    {
      "cell_type": "code",
      "source": [
        "#1. Memory Efficiency\n",
        "#Generators produce items one at a time and only when required, which significantly reduces memory usage compared to lists that load all elements into memory at once.\n",
        "\n",
        "#Example-\n",
        "# Using a list\n",
        "numbers = [i for i in range(1000000)]\n",
        "\n",
        "# Using a generator\n",
        "def number_generator():\n",
        "    for i in range(1000000):\n",
        "        yield i\n",
        "\n",
        "gen_numbers = number_generator()\n",
        "\n",
        "#In this example, the list numbers stores all 1,000,000 numbers in memory at once, while the generator number_generator produces numbers one at a time, optimizing memory usage"
      ],
      "metadata": {
        "id": "l4Q6r47MUR1K"
      },
      "execution_count": null,
      "outputs": []
    },
    {
      "cell_type": "code",
      "source": [
        "#2. Enhanced Performance\n",
        "#Generators can start yielding results immediately without waiting to process an entire dataset, which enhances performance in terms of speed and efficiency.\n",
        "\n",
        "#Example-\n",
        "# Using a list\n",
        "numbers = [i for i in range(1000000)]\n",
        "squared_numbers = [x**2 for x in numbers]\n",
        "\n",
        "# Using a generator\n",
        "def number_generator():\n",
        "    for i in range(1000000):\n",
        "        yield i\n",
        "\n",
        "def squared_gen(gen):\n",
        "    for num in gen:\n",
        "        yield num**2\n",
        "\n",
        "gen_numbers = number_generator()\n",
        "squared_gen_numbers = squared_gen(gen_numbers)\n",
        "\n",
        "#Here, the generator starts yielding squared numbers immediately, without waiting to process all 1,000,000 numbers."
      ],
      "metadata": {
        "id": "-KlHQBxoUS5f"
      },
      "execution_count": null,
      "outputs": []
    },
    {
      "cell_type": "code",
      "source": [
        "#3.Lazy Evaluation\n",
        "#Generators use lazy evaluation, meaning they generate values on-the-fly and only when needed. This is particularly useful for working with infinite sequences or large data streams.\n",
        "\n",
        "#Example-\n",
        "def infinite_sequence():\n",
        "    num = 0\n",
        "    while True:\n",
        "        yield num\n",
        "        num += 1\n",
        "\n",
        "gen = infinite_sequence()\n",
        "for i in range(10):\n",
        "    print(next(gen))\n",
        "\n",
        "#This generator produces an infinite sequence of numbers, generating each number only when requested.\n"
      ],
      "metadata": {
        "colab": {
          "base_uri": "https://localhost:8080/"
        },
        "id": "_QToj4y3UTOB",
        "outputId": "b01d6745-8044-419e-e617-0ddc48b88186"
      },
      "execution_count": null,
      "outputs": [
        {
          "output_type": "stream",
          "name": "stdout",
          "text": [
            "0\n",
            "1\n",
            "2\n",
            "3\n",
            "4\n",
            "5\n",
            "6\n",
            "7\n",
            "8\n",
            "9\n"
          ]
        }
      ]
    },
    {
      "cell_type": "code",
      "source": [
        "#4. Improved Readability and Maintainability\n",
        "#Generators can make your code more readable and maintainable by abstracting the iteration logic and focusing on the generation of values.\n",
        "\n",
        "#Example:\n",
        "\n",
        "# Regular function\n",
        "def get_squares(n):\n",
        "    result = []\n",
        "    for i in range(n):\n",
        "        result.append(i**2)\n",
        "    return result\n",
        "\n",
        "# Generator function\n",
        "def get_squares_gen(n):\n",
        "    for i in range(n):\n",
        "        yield i**2\n",
        "\n",
        "# Using the generator\n",
        "for square in get_squares_gen(5):\n",
        "    print(square)\n",
        "\n",
        "#The generator function get_squares_gen is more concise and easier to read compared to the regular function get_squares."
      ],
      "metadata": {
        "colab": {
          "base_uri": "https://localhost:8080/"
        },
        "id": "vkDLFBp0UTgK",
        "outputId": "189f57ac-cbc7-4876-b667-aca2354bf5ce"
      },
      "execution_count": null,
      "outputs": [
        {
          "output_type": "stream",
          "name": "stdout",
          "text": [
            "0\n",
            "1\n",
            "4\n",
            "9\n",
            "16\n"
          ]
        }
      ]
    },
    {
      "cell_type": "code",
      "source": [
        "#Ques-8.What is a lambda function in Python and when is it typically used?\n",
        "#Ans-A lambda function in Python is a small, anonymous function defined using the lambda keyword. Unlike regular functions defined with the def keyword, lambda functions are limited to a single expression and can have any number of arguments. They are often used for short, simple operations that are not reused elsewhere in the code.\n",
        "\n",
        "#When to Use Lambda Functions:-\n",
        "\n",
        "#Short-lived functions- When you need a small function for a short period, especially as an argument to higher-order functions like map(), filter(), and reduce().\n",
        "#Inline operations- When you want to define a function in a concise way without cluttering your code with def statements.\n",
        "#Functional programming- When working with functional programming constructs where functions are passed as arguments or returned as values.\n",
        "\n",
        "#Syntax\n",
        "\n",
        "#The basic syntax of a lambda function is:\n",
        "\n",
        "#lambda arguments: expression\n"
      ],
      "metadata": {
        "id": "GfvZsanDUTw5"
      },
      "execution_count": null,
      "outputs": []
    },
    {
      "cell_type": "code",
      "source": [
        "#Examples:-\n",
        "\n",
        "#1. Basic example:\n",
        "\n",
        "# Lambda function to add 10 to a number\n",
        "add_ten = lambda x: x + 10\n",
        "print(add_ten(8))"
      ],
      "metadata": {
        "colab": {
          "base_uri": "https://localhost:8080/"
        },
        "id": "CyS2PaCNUUBF",
        "outputId": "abd32cce-f518-4f97-e70d-89fc88913287"
      },
      "execution_count": null,
      "outputs": [
        {
          "output_type": "stream",
          "name": "stdout",
          "text": [
            "18\n"
          ]
        }
      ]
    },
    {
      "cell_type": "code",
      "source": [
        "#2.Multiple Arguments:\n",
        "\n",
        "# Lambda function to multiply two numbers\n",
        "multiply = lambda x, y: x * y\n",
        "print(multiply(5, 6))"
      ],
      "metadata": {
        "colab": {
          "base_uri": "https://localhost:8080/"
        },
        "id": "H1Gf5PJuUURE",
        "outputId": "7c880834-90d0-41b5-95f0-a94d0a726541"
      },
      "execution_count": null,
      "outputs": [
        {
          "output_type": "stream",
          "name": "stdout",
          "text": [
            "30\n"
          ]
        }
      ]
    },
    {
      "cell_type": "code",
      "source": [
        "#3.Using Lambda with map():\n",
        "\n",
        "# Using lambda with map to square each number in a list\n",
        "numbers = [1, 2, 3, 4]\n",
        "squared_numbers = list(map(lambda x: x ** 2, numbers))\n",
        "print(squared_numbers)"
      ],
      "metadata": {
        "id": "aRDx05c3aIXP"
      },
      "execution_count": null,
      "outputs": []
    },
    {
      "cell_type": "code",
      "source": [
        "#4.Using Lambda with filter():\n",
        "\n",
        "# Using lambda with filter to get even numbers from a list\n",
        "numbers = [1, 2, 3, 4, 5, 6]\n",
        "even_numbers = list(filter(lambda x: x % 2 == 0, numbers))\n",
        "print(even_numbers)"
      ],
      "metadata": {
        "id": "8dqkAzkoaatE"
      },
      "execution_count": null,
      "outputs": []
    },
    {
      "cell_type": "code",
      "source": [
        "#5.Using Lambda with reduce():\n",
        "\n",
        "# Using lambda with reduce to get even numbers from a list\n",
        "from functools import reduce\n",
        "\n",
        "numbers = [2, 1, 3, 4, 4, 5, 6]\n",
        "sum= reduce(lambda x, y: x + y, numbers)\n",
        "print(sum)"
      ],
      "metadata": {
        "colab": {
          "base_uri": "https://localhost:8080/"
        },
        "id": "BNrpGvidaa9D",
        "outputId": "ef2b4db3-5524-460f-fed2-8fd45e7c7402"
      },
      "execution_count": null,
      "outputs": [
        {
          "output_type": "stream",
          "name": "stdout",
          "text": [
            "25\n"
          ]
        }
      ]
    },
    {
      "cell_type": "code",
      "source": [
        "#Ques-9.Explain the purpose and usage of the `map()` function in Python.\n",
        "#Ans-The map() function in Python is a built-in function that allows you to apply a given function to all items in an iterable (like a list or tuple) and return a new iterable (map object) with the results. This is particularly useful for transforming data without using explicit loops.\n",
        "\n",
        "#Syntax\n",
        "\n",
        "# map(function, iterable, ...)\n",
        "\n",
        "#function: The function to apply to each item.\n",
        "#iterable: One or more iterables whose items are passed to the function."
      ],
      "metadata": {
        "id": "IHDb3mJpabIQ"
      },
      "execution_count": null,
      "outputs": []
    },
    {
      "cell_type": "code",
      "source": [
        "#Purpose:-\n",
        "#The primary purpose of map() is to simplify the process of applying a function to each item in an iterable, making the code more concise and readable."
      ],
      "metadata": {
        "id": "D_stCh6ZabTe"
      },
      "execution_count": null,
      "outputs": []
    },
    {
      "cell_type": "code",
      "source": [
        "#Usage Examples:-\n",
        "\n",
        "#1.Basic example-\n",
        "\n",
        "# Suppose we want to double each number in a list:\n",
        "\n",
        "def double(n):\n",
        "    return n * 2\n",
        "\n",
        "numbers = [1, 2, 3, 4]\n",
        "doubled_numbers = list(map(double, numbers))\n",
        "print(doubled_numbers)\n"
      ],
      "metadata": {
        "colab": {
          "base_uri": "https://localhost:8080/"
        },
        "id": "O69_A4RoabfS",
        "outputId": "adc831c2-0ba9-4636-f358-29702e20fe53"
      },
      "execution_count": 4,
      "outputs": [
        {
          "output_type": "stream",
          "name": "stdout",
          "text": [
            "[2, 4, 6, 8]\n"
          ]
        }
      ]
    },
    {
      "cell_type": "code",
      "source": [
        "#2.Using Lambda with map():\n",
        "\n",
        "#You can use lambda expressions with map() for more concise code:\n",
        "\n",
        "numbers = [1, 2, 3, 4]\n",
        "doubled_numbers = list(map(lambda x: x * 2, numbers))\n",
        "print(doubled_numbers)"
      ],
      "metadata": {
        "colab": {
          "base_uri": "https://localhost:8080/"
        },
        "id": "ZxoPJU-jabp8",
        "outputId": "8c877cdf-191d-4a2c-a734-587bca14f21f"
      },
      "execution_count": 5,
      "outputs": [
        {
          "output_type": "stream",
          "name": "stdout",
          "text": [
            "[2, 4, 6, 8]\n"
          ]
        }
      ]
    },
    {
      "cell_type": "code",
      "source": [
        "#3.Combining Two Lists:\n",
        "\n",
        "#Let’s add corresponding elements from two lists:\n",
        "\n",
        "list1 = [1, 2, 3]\n",
        "list2 = [4, 5, 6]\n",
        "combined = list(map(lambda x, y: x + y, list1, list2))\n",
        "print(combined)\n"
      ],
      "metadata": {
        "id": "RdqHQPzcgDR_",
        "colab": {
          "base_uri": "https://localhost:8080/"
        },
        "outputId": "c694ca7e-9e38-4b20-fb35-fc00ad0504f8"
      },
      "execution_count": 6,
      "outputs": [
        {
          "output_type": "stream",
          "name": "stdout",
          "text": [
            "[5, 7, 9]\n"
          ]
        }
      ]
    },
    {
      "cell_type": "code",
      "source": [
        "#4.Modifying Strings:\n",
        "\n",
        "#You can even modify strings using map():\n",
        "\n",
        "words = ['sat', 'bat', 'cat', 'mat']\n",
        "modified_words = list(map(list, words))\n",
        "print(modified_words)\n"
      ],
      "metadata": {
        "colab": {
          "base_uri": "https://localhost:8080/"
        },
        "id": "2zitirsE-5XN",
        "outputId": "cafc0956-7f96-4a9f-c9de-0323338d2a97"
      },
      "execution_count": 7,
      "outputs": [
        {
          "output_type": "stream",
          "name": "stdout",
          "text": [
            "[['s', 'a', 't'], ['b', 'a', 't'], ['c', 'a', 't'], ['m', 'a', 't']]\n"
          ]
        }
      ]
    },
    {
      "cell_type": "code",
      "source": [
        "#5.Conditional Transformation:\n",
        "\n",
        "#Apply a function conditionally using map():\n",
        "\n",
        "def double_even(num):\n",
        "    if num % 2 == 0:\n",
        "        return num * 2\n",
        "    else:\n",
        "        return num\n",
        "\n",
        "numbers = [1, 2, 3, 4, 5]\n",
        "transformed_numbers = list(map(double_even, numbers))\n",
        "print(transformed_numbers)"
      ],
      "metadata": {
        "colab": {
          "base_uri": "https://localhost:8080/"
        },
        "id": "01A23J3B_KHY",
        "outputId": "e84a9b3d-0ab7-475f-eecf-699716bcc897"
      },
      "execution_count": 8,
      "outputs": [
        {
          "output_type": "stream",
          "name": "stdout",
          "text": [
            "[1, 4, 3, 8, 5]\n"
          ]
        }
      ]
    },
    {
      "cell_type": "code",
      "source": [
        "#Ques:-10.What is the difference between `map()`, `reduce()`, and `filter()` functions in Python?\n",
        "#Ans-The map(), reduce(), and filter() functions in Python are powerful tools for functional programming. Here’s a concise breakdown of each:\n"
      ],
      "metadata": {
        "id": "FWMqJyAK_Wpq"
      },
      "execution_count": null,
      "outputs": []
    },
    {
      "cell_type": "code",
      "source": [
        "#map():\n",
        "#Purpose: Applies a given function to all items in an iterable (like a list) and returns a map object (an iterator).\n",
        "\n",
        "#Syntax: map(function, iterable, ...)\n",
        "\n",
        "#Example-\n",
        "\n",
        "def square(x):\n",
        "    return x * x\n",
        "\n",
        "numbers = [1, 2, 3, 4]\n",
        "result = map(square, numbers)\n",
        "print(list(result))\n",
        "\n",
        "#map() transforms each item in an iterable."
      ],
      "metadata": {
        "colab": {
          "base_uri": "https://localhost:8080/"
        },
        "id": "XC8-_aGZAHNn",
        "outputId": "d300e390-89f5-40bc-ad86-cf8c96b6ffbe"
      },
      "execution_count": 9,
      "outputs": [
        {
          "output_type": "stream",
          "name": "stdout",
          "text": [
            "[1, 4, 9, 16]\n"
          ]
        }
      ]
    },
    {
      "cell_type": "code",
      "source": [
        "#filter():\n",
        "#Purpose: Filters items out of an iterable based on a function that returns either True or False.\n",
        "\n",
        "#Syntax: filter(function, iterable)\n",
        "\n",
        "#Example-\n",
        "\n",
        "def is_even(x):\n",
        "    return x % 2 == 0\n",
        "\n",
        "numbers = [1, 2, 3, 4, 5, 6]\n",
        "result = filter(is_even, numbers)\n",
        "print(list(result))\n",
        "\n",
        "#filter() selects items based on a condition."
      ],
      "metadata": {
        "colab": {
          "base_uri": "https://localhost:8080/"
        },
        "id": "0uePzMwTAHmv",
        "outputId": "7576468b-8bb7-4d7d-b0a8-c12fa21ce989"
      },
      "execution_count": 10,
      "outputs": [
        {
          "output_type": "stream",
          "name": "stdout",
          "text": [
            "[2, 4, 6]\n"
          ]
        }
      ]
    },
    {
      "cell_type": "code",
      "source": [
        "#reduce():\n",
        "#Purpose: Applies a function cumulatively to the items of an iterable, reducing the iterable to a single value. This function is available in the functools module.\n",
        "\n",
        "#Syntax: reduce(function, iterable[, initializer])\n",
        "\n",
        "#Example:\n",
        "\n",
        "from functools import reduce\n",
        "\n",
        "def add(x, y):\n",
        "    return x + y\n",
        "\n",
        "numbers = [1, 2, 3, 4]\n",
        "result = reduce(add, numbers)\n",
        "print(result)  # Output: 10\n",
        "\n",
        "#reduce() aggregates all items to a single value."
      ],
      "metadata": {
        "colab": {
          "base_uri": "https://localhost:8080/"
        },
        "id": "jg2hvDc2AH1Y",
        "outputId": "51a9b926-8d78-4399-a7c1-eba6302b80ed"
      },
      "execution_count": 11,
      "outputs": [
        {
          "output_type": "stream",
          "name": "stdout",
          "text": [
            "10\n"
          ]
        }
      ]
    },
    {
      "cell_type": "code",
      "source": [
        "#Ques;-11. Using pen & Paper write the internal mechanism for sum operation using reduce function on this given list:[47,11,42,13];\n",
        "#(Attach paper image for this answer) in doc or colab notebook.\n",
        "\n",
        "#Ans-The reduce function in Python can be used to sum the elements of a list. Here’s a step-by-step explanation of how it works internally:\n",
        "\n",
        "#Import the reduce function: The reduce function is part of the functools module, so you need to import it first.\n",
        "#Define the list: The list you want to sum.\n",
        "#Define the function: This function will be applied cumulatively to the items of the list.\n",
        "#Apply reduce: Use the reduce function to apply the sum function to the list.\n"
      ],
      "metadata": {
        "id": "7s4F9FiAAIEr"
      },
      "execution_count": 12,
      "outputs": []
    },
    {
      "cell_type": "code",
      "source": [
        "from google.colab import files\n",
        "from IPython.display import Image"
      ],
      "metadata": {
        "id": "jPc7fRMgFhNU"
      },
      "execution_count": 13,
      "outputs": []
    },
    {
      "cell_type": "code",
      "source": [
        "upload = files.upload()"
      ],
      "metadata": {
        "colab": {
          "base_uri": "https://localhost:8080/",
          "height": 74
        },
        "id": "qEVXt-8NGp_W",
        "outputId": "f0647069-fa0c-4bbb-8fc8-a8b877048ce2"
      },
      "execution_count": 14,
      "outputs": [
        {
          "output_type": "display_data",
          "data": {
            "text/plain": [
              "<IPython.core.display.HTML object>"
            ],
            "text/html": [
              "\n",
              "     <input type=\"file\" id=\"files-9ad06f77-4093-4453-9453-a0b09aa6ecdd\" name=\"files[]\" multiple disabled\n",
              "        style=\"border:none\" />\n",
              "     <output id=\"result-9ad06f77-4093-4453-9453-a0b09aa6ecdd\">\n",
              "      Upload widget is only available when the cell has been executed in the\n",
              "      current browser session. Please rerun this cell to enable.\n",
              "      </output>\n",
              "      <script>// Copyright 2017 Google LLC\n",
              "//\n",
              "// Licensed under the Apache License, Version 2.0 (the \"License\");\n",
              "// you may not use this file except in compliance with the License.\n",
              "// You may obtain a copy of the License at\n",
              "//\n",
              "//      http://www.apache.org/licenses/LICENSE-2.0\n",
              "//\n",
              "// Unless required by applicable law or agreed to in writing, software\n",
              "// distributed under the License is distributed on an \"AS IS\" BASIS,\n",
              "// WITHOUT WARRANTIES OR CONDITIONS OF ANY KIND, either express or implied.\n",
              "// See the License for the specific language governing permissions and\n",
              "// limitations under the License.\n",
              "\n",
              "/**\n",
              " * @fileoverview Helpers for google.colab Python module.\n",
              " */\n",
              "(function(scope) {\n",
              "function span(text, styleAttributes = {}) {\n",
              "  const element = document.createElement('span');\n",
              "  element.textContent = text;\n",
              "  for (const key of Object.keys(styleAttributes)) {\n",
              "    element.style[key] = styleAttributes[key];\n",
              "  }\n",
              "  return element;\n",
              "}\n",
              "\n",
              "// Max number of bytes which will be uploaded at a time.\n",
              "const MAX_PAYLOAD_SIZE = 100 * 1024;\n",
              "\n",
              "function _uploadFiles(inputId, outputId) {\n",
              "  const steps = uploadFilesStep(inputId, outputId);\n",
              "  const outputElement = document.getElementById(outputId);\n",
              "  // Cache steps on the outputElement to make it available for the next call\n",
              "  // to uploadFilesContinue from Python.\n",
              "  outputElement.steps = steps;\n",
              "\n",
              "  return _uploadFilesContinue(outputId);\n",
              "}\n",
              "\n",
              "// This is roughly an async generator (not supported in the browser yet),\n",
              "// where there are multiple asynchronous steps and the Python side is going\n",
              "// to poll for completion of each step.\n",
              "// This uses a Promise to block the python side on completion of each step,\n",
              "// then passes the result of the previous step as the input to the next step.\n",
              "function _uploadFilesContinue(outputId) {\n",
              "  const outputElement = document.getElementById(outputId);\n",
              "  const steps = outputElement.steps;\n",
              "\n",
              "  const next = steps.next(outputElement.lastPromiseValue);\n",
              "  return Promise.resolve(next.value.promise).then((value) => {\n",
              "    // Cache the last promise value to make it available to the next\n",
              "    // step of the generator.\n",
              "    outputElement.lastPromiseValue = value;\n",
              "    return next.value.response;\n",
              "  });\n",
              "}\n",
              "\n",
              "/**\n",
              " * Generator function which is called between each async step of the upload\n",
              " * process.\n",
              " * @param {string} inputId Element ID of the input file picker element.\n",
              " * @param {string} outputId Element ID of the output display.\n",
              " * @return {!Iterable<!Object>} Iterable of next steps.\n",
              " */\n",
              "function* uploadFilesStep(inputId, outputId) {\n",
              "  const inputElement = document.getElementById(inputId);\n",
              "  inputElement.disabled = false;\n",
              "\n",
              "  const outputElement = document.getElementById(outputId);\n",
              "  outputElement.innerHTML = '';\n",
              "\n",
              "  const pickedPromise = new Promise((resolve) => {\n",
              "    inputElement.addEventListener('change', (e) => {\n",
              "      resolve(e.target.files);\n",
              "    });\n",
              "  });\n",
              "\n",
              "  const cancel = document.createElement('button');\n",
              "  inputElement.parentElement.appendChild(cancel);\n",
              "  cancel.textContent = 'Cancel upload';\n",
              "  const cancelPromise = new Promise((resolve) => {\n",
              "    cancel.onclick = () => {\n",
              "      resolve(null);\n",
              "    };\n",
              "  });\n",
              "\n",
              "  // Wait for the user to pick the files.\n",
              "  const files = yield {\n",
              "    promise: Promise.race([pickedPromise, cancelPromise]),\n",
              "    response: {\n",
              "      action: 'starting',\n",
              "    }\n",
              "  };\n",
              "\n",
              "  cancel.remove();\n",
              "\n",
              "  // Disable the input element since further picks are not allowed.\n",
              "  inputElement.disabled = true;\n",
              "\n",
              "  if (!files) {\n",
              "    return {\n",
              "      response: {\n",
              "        action: 'complete',\n",
              "      }\n",
              "    };\n",
              "  }\n",
              "\n",
              "  for (const file of files) {\n",
              "    const li = document.createElement('li');\n",
              "    li.append(span(file.name, {fontWeight: 'bold'}));\n",
              "    li.append(span(\n",
              "        `(${file.type || 'n/a'}) - ${file.size} bytes, ` +\n",
              "        `last modified: ${\n",
              "            file.lastModifiedDate ? file.lastModifiedDate.toLocaleDateString() :\n",
              "                                    'n/a'} - `));\n",
              "    const percent = span('0% done');\n",
              "    li.appendChild(percent);\n",
              "\n",
              "    outputElement.appendChild(li);\n",
              "\n",
              "    const fileDataPromise = new Promise((resolve) => {\n",
              "      const reader = new FileReader();\n",
              "      reader.onload = (e) => {\n",
              "        resolve(e.target.result);\n",
              "      };\n",
              "      reader.readAsArrayBuffer(file);\n",
              "    });\n",
              "    // Wait for the data to be ready.\n",
              "    let fileData = yield {\n",
              "      promise: fileDataPromise,\n",
              "      response: {\n",
              "        action: 'continue',\n",
              "      }\n",
              "    };\n",
              "\n",
              "    // Use a chunked sending to avoid message size limits. See b/62115660.\n",
              "    let position = 0;\n",
              "    do {\n",
              "      const length = Math.min(fileData.byteLength - position, MAX_PAYLOAD_SIZE);\n",
              "      const chunk = new Uint8Array(fileData, position, length);\n",
              "      position += length;\n",
              "\n",
              "      const base64 = btoa(String.fromCharCode.apply(null, chunk));\n",
              "      yield {\n",
              "        response: {\n",
              "          action: 'append',\n",
              "          file: file.name,\n",
              "          data: base64,\n",
              "        },\n",
              "      };\n",
              "\n",
              "      let percentDone = fileData.byteLength === 0 ?\n",
              "          100 :\n",
              "          Math.round((position / fileData.byteLength) * 100);\n",
              "      percent.textContent = `${percentDone}% done`;\n",
              "\n",
              "    } while (position < fileData.byteLength);\n",
              "  }\n",
              "\n",
              "  // All done.\n",
              "  yield {\n",
              "    response: {\n",
              "      action: 'complete',\n",
              "    }\n",
              "  };\n",
              "}\n",
              "\n",
              "scope.google = scope.google || {};\n",
              "scope.google.colab = scope.google.colab || {};\n",
              "scope.google.colab._files = {\n",
              "  _uploadFiles,\n",
              "  _uploadFilesContinue,\n",
              "};\n",
              "})(self);\n",
              "</script> "
            ]
          },
          "metadata": {}
        },
        {
          "output_type": "stream",
          "name": "stdout",
          "text": [
            "Saving reduce.jpg to reduce.jpg\n"
          ]
        }
      ]
    },
    {
      "cell_type": "code",
      "source": [
        "Image('reduce.jpg',\n",
        "      width= 300)\n"
      ],
      "metadata": {
        "colab": {
          "base_uri": "https://localhost:8080/",
          "height": 516
        },
        "id": "wg7ElY8YG2Q3",
        "outputId": "8edd29ee-bdca-4e84-cef8-baac768c8815"
      },
      "execution_count": 16,
      "outputs": [
        {
          "output_type": "execute_result",
          "data": {
            "image/jpeg": "[encoded data removed]",
            "text/plain": [
              "<IPython.core.display.Image object>"
            ]
          },
          "metadata": {
            "image/jpeg": {
              "width": 300
            }
          },
          "execution_count": 16
        }
      ]
    },
    {
      "cell_type": "code",
      "source": [],
      "metadata": {
        "id": "qHXx87cZHYG_"
      },
      "execution_count": null,
      "outputs": []
    }
  ]
}