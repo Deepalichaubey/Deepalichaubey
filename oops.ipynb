{
  "nbformat": 4,
  "nbformat_minor": 0,
  "metadata": {
    "colab": {
      "provenance": [],
      "authorship_tag": "ABX9TyNLizaqibas/WYta7YqGG+8",
      "include_colab_link": true
    },
    "kernelspec": {
      "name": "python3",
      "display_name": "Python 3"
    },
    "language_info": {
      "name": "python"
    }
  },
  "cells": [
    {
      "cell_type": "markdown",
      "metadata": {
        "id": "view-in-github",
        "colab_type": "text"
      },
      "source": [
        "<a href=\"https://colab.research.google.com/github/Deepalichaubey/Deepalichaubey/blob/main/oops.ipynb\" target=\"_parent\"><img src=\"https://colab.research.google.com/assets/colab-badge.svg\" alt=\"Open In Colab\"/></a>"
      ]
    },
    {
      "cell_type": "code",
      "execution_count": null,
      "metadata": {
        "colab": {
          "base_uri": "https://localhost:8080/"
        },
        "id": "iayhGDh65GhO",
        "outputId": "a2aa0bf6-08c0-4953-d4d8-582eb28d67ec"
      },
      "outputs": [
        {
          "output_type": "stream",
          "name": "stdout",
          "text": [
            "Maruti\n",
            "Brezzo\n",
            "1995\n",
            "1995 Maruti Brezzo\n"
          ]
        }
      ],
      "source": [
        "#Ques-1. What are the five key concepts of Object-Oriented Programming (OOP)?\n",
        "#Ans-The five key concepts of Object-Oriented Programming (OOP) are:\n",
        "\n",
        "#1.Classes and Objects:\n",
        "#Classes serve as blueprints for creating objects. They define attributes (properties) and methods (functions) that describe the behavior of objects.\n",
        "\n",
        "#For example, consider a Car class\n",
        "\n",
        "class Car:\n",
        "    # Constructor method to initialize attributes\n",
        "    def __init__(self, make, model, year):\n",
        "        self.make = make\n",
        "        self.model = model\n",
        "        self.year = year\n",
        "\n",
        "    # Method to display car details\n",
        "    def display_info(self):\n",
        "        print(f\"{self.year} {self.make} {self.model}\")\n",
        "\n",
        "# Create an object of the Car class\n",
        "my_car = Car(\"Maruti\", \"Brezza\", 1995)\n",
        "\n",
        "# Access the object's attributes and methods\n",
        "print(my_car.make)\n",
        "print(my_car.model)\n",
        "print(my_car.year)\n",
        "\n",
        "my_car.display_info()\n"
      ]
    },
    {
      "cell_type": "code",
      "source": [
        "#2.Encapsulation:\n",
        "\n",
        "#Encapsulation bundles data (attributes) and methods (functions) into a single unit (the class).\n",
        "#It hides implementation details and exposes only essential information.\n",
        "\n",
        "#Example:\n",
        "\n",
        "class BankAccount:\n",
        "    def __init__(self, owner, balance=0):\n",
        "        self.owner = owner\n",
        "        self.__balance = balance  # Private attribute\n",
        "\n",
        "    def deposit(self, amount):\n",
        "        if amount > 0:\n",
        "            self.__balance += amount\n",
        "            print(f\"Deposited {amount}. Balance is {self.__balance}.\")\n",
        "        else:\n",
        "            print(\"Deposit amount must be positive.\")\n",
        "\n",
        "    def withdraw(self, amount):\n",
        "        if 0 < amount <= self.__balance:\n",
        "            self.__balance -= amount\n",
        "            print(f\"Withdrew {amount}. Balance is {self.__balance}.\")\n",
        "        else:\n",
        "            print(\"Insufficient funds or invalid amount.\")\n",
        "\n",
        "    def get_balance(self):\n",
        "        return self.__balance\n",
        "\n",
        "# Example usage\n",
        "account = BankAccount(\"Deepali\", 1000)\n",
        "account.deposit(500)\n",
        "account.withdraw(200)\n",
        "print(f\"Balance: {account.get_balance()}\")\n",
        "\n"
      ],
      "metadata": {
        "colab": {
          "base_uri": "https://localhost:8080/"
        },
        "id": "DoZUXksx-Em9",
        "outputId": "47217409-44b7-4ddc-a6c6-7d6a85be78b0"
      },
      "execution_count": null,
      "outputs": [
        {
          "output_type": "stream",
          "name": "stdout",
          "text": [
            "Deposited 500. Balance is 1500.\n",
            "Withdrew 200. Balance is 1300.\n",
            "Balance: 1300\n"
          ]
        }
      ]
    },
    {
      "cell_type": "code",
      "source": [
        "#3.Inheritance:\n",
        "\n",
        "#Inheritance allows creating a new class (the child or derived class) based on an existing one (the parent or base class).\n",
        "#The child class inherits properties and behaviors from the parent class.\n",
        "\n",
        "#Example:\n",
        "\n",
        "class Person: # parent class\n",
        "    def __init__(self, name):\n",
        "        self.name = name\n",
        "\n",
        "    def getName(self):\n",
        "        return self.name\n",
        "\n",
        "    def isEmployee(self):\n",
        "        return False\n",
        "\n",
        "class Employee(Person): #Child class\n",
        "    def isEmployee(self):\n",
        "        return True\n",
        "\n",
        "emp1 = Person(\"Amit\")\n",
        "print(emp1.getName(), emp1.isEmployee())\n",
        "\n",
        "emp2 = Employee(\"Mohit\")\n",
        "print(emp2.getName(), emp2.isEmployee())\n"
      ],
      "metadata": {
        "colab": {
          "base_uri": "https://localhost:8080/"
        },
        "id": "MyKQA7Xx-E0M",
        "outputId": "2c8c270b-8579-4a81-c200-ba46c967109c"
      },
      "execution_count": null,
      "outputs": [
        {
          "output_type": "stream",
          "name": "stdout",
          "text": [
            "Amit False\n",
            "Mohit True\n"
          ]
        }
      ]
    },
    {
      "cell_type": "code",
      "source": [
        "#4.Polymorphism:\n",
        "\n",
        "#Polymorphism enables objects of different classes to be treated uniformly.\n",
        "#You can use the same method name across different classes, and the appropriate method is called based on the object type.\n",
        "\n",
        "#Example\n",
        "\n",
        "class Dog:\n",
        "    def speak(self):\n",
        "        return \"Woof!\"\n",
        "\n",
        "class Cat:\n",
        "    def speak(self):\n",
        "        return \"Meow!\"\n",
        "\n",
        "# Creating objects\n",
        "dog = Dog()\n",
        "cat = Cat()\n",
        "\n",
        "# Demonstrating polymorphism\n",
        "for animal in (dog, cat):\n",
        "    print(animal.speak())\n"
      ],
      "metadata": {
        "colab": {
          "base_uri": "https://localhost:8080/"
        },
        "id": "hBrvA7BE-E_a",
        "outputId": "46436eb4-f912-461f-bd61-f197453c419e"
      },
      "execution_count": null,
      "outputs": [
        {
          "output_type": "stream",
          "name": "stdout",
          "text": [
            "Woof!\n",
            "Meow!\n"
          ]
        }
      ]
    },
    {
      "cell_type": "code",
      "source": [
        "#5.Abstraction:\n",
        "\n",
        "#Abstraction simplifies complex systems by focusing on essential features.\n",
        "#It hides unnecessary details and provides a high-level view.\n",
        "\n",
        "#Example (abstract class):\n",
        "\n",
        "from abc import ABC, abstractmethod\n",
        "\n",
        "class Shape(ABC):\n",
        "    @abstractmethod\n",
        "    def area(self):\n",
        "        pass\n",
        "\n",
        "class Circle(Shape):\n",
        "    def __init__(self, radius):\n",
        "        self.radius = radius\n",
        "\n",
        "    def area(self):\n",
        "        return 3.14 * self.radius ** 2\n",
        "\n",
        "my_circle = Circle(radius=5)\n",
        "print(f\"Circle area: {my_circle.area()}\")\n"
      ],
      "metadata": {
        "colab": {
          "base_uri": "https://localhost:8080/"
        },
        "id": "_JzZM2B2-FJT",
        "outputId": "961f12a1-7d37-4211-8a88-d62a9775e9a8"
      },
      "execution_count": null,
      "outputs": [
        {
          "output_type": "stream",
          "name": "stdout",
          "text": [
            "Circle area: 78.5\n"
          ]
        }
      ]
    },
    {
      "cell_type": "code",
      "source": [
        "#Ques:-2. Write a Python class for a `Car` with attributes for `make`, `model`, and `year`. Include a method to display the car's information.\n",
        "#Ans-\n",
        "\n",
        "class Car:\n",
        "    def __init__(self, make, model, year):\n",
        "        self.make = make\n",
        "        self.model = model\n",
        "        self.year = year\n",
        "\n",
        "    def display_info(self):\n",
        "        print(f\"Car Information: {self.model} {self.make} {self.year}\")\n",
        "\n",
        "# Example usage:\n",
        "my_car = Car(\"Maruti\", \"Brezza\", 2020)\n",
        "my_car.display_info()\n",
        "\n",
        "#This class includes an __init__ method to initialize the attributes and a display_info method to print the car’s information.\n",
        "#Create an instance of the Car class and call the display_info method to see the output."
      ],
      "metadata": {
        "colab": {
          "base_uri": "https://localhost:8080/"
        },
        "id": "8Rn7JAuc5YGG",
        "outputId": "2b2f8261-2263-4e4c-c96b-4bf2786dff43"
      },
      "execution_count": null,
      "outputs": [
        {
          "output_type": "stream",
          "name": "stdout",
          "text": [
            "Car Information: Brezza Maruti 2020\n"
          ]
        }
      ]
    },
    {
      "cell_type": "code",
      "source": [
        "#Ques:-3. Explain the difference between instance methods and class methods. Provide an example of each.\n",
        "#Ans-The differences between instance methods and class methods:-\n",
        "\n",
        "#Instance Methods:-\n",
        "\n",
        "#Instance methods are the most common type of methods in object-oriented programming.\n",
        "#They operate on instances of the class and can access and modify the instance’s attributes.\n",
        "#These methods take self as their first parameter, which refers to the instance itself.\n",
        "\n",
        "#Key Differences\n",
        "#Instance Methods: Operate on instances of the class and can access and modify instance attributes.\n",
        "\n",
        "\n",
        "#Example:\n",
        "\n",
        "class Dog:\n",
        "    def __init__(self, name):\n",
        "        self.name = name\n",
        "\n",
        "    def bark(self):\n",
        "        return f\"{self.name} says woof!\"\n",
        "\n",
        "# Creating an instance of Dog\n",
        "my_dog = Dog(\"Tommy\")\n",
        "print(my_dog.bark())\n",
        "\n",
        "#In this example, bark is an instance method because it operates on the instance my_dog and accesses the instance attribute name.\n"
      ],
      "metadata": {
        "colab": {
          "base_uri": "https://localhost:8080/"
        },
        "id": "9wmPx5Pb5YVU",
        "outputId": "d0ec44a3-d023-4023-a236-8feccef65536"
      },
      "execution_count": null,
      "outputs": [
        {
          "output_type": "stream",
          "name": "stdout",
          "text": [
            "Tommy says woof!\n"
          ]
        }
      ]
    },
    {
      "cell_type": "code",
      "source": [
        "#Class Methods\n",
        "#Class methods are methods that are bound to the class and not the instance of the class.\n",
        "#They can modify class state that applies across all instances of the class.\n",
        "#These methods take cls as their first parameter, which refers to the class itself.\n",
        "#Class methods are defined using the @classmethod decorator.\n",
        "\n",
        "#Key Differences\n",
        "#Class Methods: Operate on the class itself and can modify class-level attributes\n",
        "\n",
        "#Example\n",
        "\n",
        "class Dog:\n",
        "    species = \"French Bulldog\"\n",
        "\n",
        "    def __init__(self, name):\n",
        "        self.name = name\n",
        "\n",
        "    @classmethod\n",
        "    def get_species(cls):\n",
        "        return cls.species\n",
        "\n",
        "# Calling the class method\n",
        "print(Dog.get_species())  # Output: Canis familiaris\n",
        "\n",
        "#In this example, get_species is a class method because it operates on the class itself and accesses the class attribute species."
      ],
      "metadata": {
        "colab": {
          "base_uri": "https://localhost:8080/"
        },
        "id": "3F8pYlwJJhW5",
        "outputId": "3ee32b54-c5c4-4aa8-c218-30043ab1bb48"
      },
      "execution_count": null,
      "outputs": [
        {
          "output_type": "stream",
          "name": "stdout",
          "text": [
            "French Bulldog\n"
          ]
        }
      ]
    },
    {
      "cell_type": "code",
      "source": [
        "#Ques:- 4. How does Python implement method overloading? Give an example.\n",
        "#Ans-Method overloading allows you to define multiple methods with the same name in a class, but with different parameter lists (number of parameters or types of parameters). Unfortunately, Python doesn’t directly support method overloading like some other languages (e.g., Java or C++). However, we can achieve similar behavior using a few workarounds. Let’s explore two common approaches:\n",
        "\n",
        "#Using Default Arguments:\n",
        "\n",
        "#Define a single method with default arguments. Depending on the arguments provided, the method behaves differently.\n",
        "\n",
        "#Example:\n",
        "\n",
        "def add(a=None, b=None):\n",
        "    if a is not None and b is None:\n",
        "        print(a)\n",
        "    else:\n",
        "        print(a + b)\n",
        "\n",
        "add(6, 3)\n",
        "add(7)\n",
        "\n",
        "#Here, the add function checks whether both arguments are available. If only one argument is provided, it behaves accordingly.\n"
      ],
      "metadata": {
        "colab": {
          "base_uri": "https://localhost:8080/"
        },
        "id": "NAg2Wsdk5Yhn",
        "outputId": "b6330326-9491-4aeb-c178-5a5541f43cba"
      },
      "execution_count": null,
      "outputs": [
        {
          "output_type": "stream",
          "name": "stdout",
          "text": [
            "9\n",
            "7\n"
          ]
        }
      ]
    },
    {
      "cell_type": "code",
      "source": [
        "#Using External Libraries:\n",
        "\n",
        "#We can use external libraries to achieve method overloading-like behavior.\n",
        "#For instance, the multipledispatch library allows us to overload methods based on argument types.\n",
        "\n",
        "#Example:\n",
        "\n",
        "from multipledispatch import dispatch\n",
        "\n",
        "class MathOperations:\n",
        "    @dispatch(int, int)\n",
        "    def add(self, a, b):\n",
        "        return a + b\n",
        "\n",
        "    @dispatch(int, int, int)\n",
        "    def add(self, a, b, c):\n",
        "        return a + b + c\n",
        "\n",
        "math_ops = MathOperations()\n",
        "print(math_ops.add(2, 3))\n",
        "print(math_ops.add(2, 3, 4))\n",
        "\n",
        "#In this example, the add method is overloaded based on the number of arguments."
      ],
      "metadata": {
        "colab": {
          "base_uri": "https://localhost:8080/"
        },
        "id": "Qr3Kml_3N_PD",
        "outputId": "2e60d345-33d4-4655-f049-dbc0cf629c5b"
      },
      "execution_count": null,
      "outputs": [
        {
          "output_type": "stream",
          "name": "stdout",
          "text": [
            "5\n",
            "9\n"
          ]
        }
      ]
    },
    {
      "cell_type": "code",
      "source": [
        "#Ques:- 5. What are the three types of access modifiers in Python? How are they denoted?\n",
        "#Ans-There are three types of access modifiers used to control the visibility and accessibility of class members:\n",
        "\n",
        "#Public: Members declared as public are accessible from any part of the program. By default, all members of a class are public.\n",
        "#They are denoted without any leading underscores.\n",
        "\n",
        "##Example-\n",
        "\n",
        "class Geek:\n",
        "    def __init__(self, name, age):\n",
        "        self.geekName = name #Public\n",
        "        self.geekAge = age #Public\n",
        "\n",
        "    def displayAge(self):\n",
        "        print(\"Age:\", self.geekAge)\n",
        "\n",
        "obj = Geek(\"Riya\", 20)\n",
        "print(\"Name:\", obj.geekName)\n",
        "obj.displayAge()\n"
      ],
      "metadata": {
        "colab": {
          "base_uri": "https://localhost:8080/"
        },
        "id": "tBk1R8J-5Ysk",
        "outputId": "6a95ad7a-bd97-479d-8f60-a7505cac174b"
      },
      "execution_count": null,
      "outputs": [
        {
          "output_type": "stream",
          "name": "stdout",
          "text": [
            "Name: Riya\n",
            "Age: 20\n"
          ]
        }
      ]
    },
    {
      "cell_type": "code",
      "source": [
        "#Protected: Members declared as protected are accessible within the class and its subclasses.\n",
        "#They are denoted by a single leading underscore (_).\n",
        "\n",
        "#Example-\n",
        "\n",
        "class Student:\n",
        "    def __init__(self, name, roll, branch):\n",
        "        self._name = name # Protected\n",
        "        self._roll = roll # Protected\n",
        "        self._branch = branch # Protected\n",
        "\n",
        "    def _displayRollAndBranch(self):\n",
        "        print(\"Roll:\", self._roll)\n",
        "        print(\"Branch:\", self._branch)\n",
        "\n",
        "class Geek(Student):\n",
        "    def displayDetails(self):\n",
        "        print(\"Name:\", self._name)\n",
        "        self._displayRollAndBranch()\n",
        "\n",
        "geek_obj = Geek(\"Riya\", 1706256, \"CSE\")\n",
        "geek_obj.displayDetails()\n"
      ],
      "metadata": {
        "colab": {
          "base_uri": "https://localhost:8080/"
        },
        "id": "F2DMcpTnQEFO",
        "outputId": "7eefed90-524c-4a3b-a78a-2df2885d055a"
      },
      "execution_count": null,
      "outputs": [
        {
          "output_type": "stream",
          "name": "stdout",
          "text": [
            "Name: Riya\n",
            "Roll: 1706256\n",
            "Branch: CSE\n"
          ]
        }
      ]
    },
    {
      "cell_type": "code",
      "source": [
        "#Private: Members declared as private are accessible only within the class itself.\n",
        "#They are denoted by a double leading underscore (__).\n",
        "\n",
        "#Example-\n",
        "\n",
        "class MyClass:\n",
        "    def __init__(self):\n",
        "        self.__private_var = 42 #Private\n",
        "\n",
        "    def get_private_var(self):\n",
        "        return self.__private_var\n",
        "\n",
        "obj = MyClass()\n",
        "print(obj.get_private_var())\n",
        "# Accessing directly will raise an AttributeError:\n",
        "# print(obj.__private_var)\n",
        "\n"
      ],
      "metadata": {
        "colab": {
          "base_uri": "https://localhost:8080/"
        },
        "id": "5AXbzDmlQEY3",
        "outputId": "09343e99-aa78-46fd-c00f-14fed0f660f2"
      },
      "execution_count": null,
      "outputs": [
        {
          "output_type": "stream",
          "name": "stdout",
          "text": [
            "42\n"
          ]
        }
      ]
    },
    {
      "cell_type": "code",
      "source": [
        "#Ques:-6. Describe the five types of inheritance in Python. Provide a simple example of multiple inheritance.\n",
        "#Ans-There are five main types of inheritance:\n",
        "\n",
        "#1.Single Inheritance:\n",
        "# A derived class inherits properties and methods from a single parent class.\n",
        "\n",
        "#Example-\n",
        "\n",
        "class Parent:\n",
        "    def func1(self):\n",
        "        print(\"This function is in the parent class.\")\n",
        "\n",
        "class Child(Parent):\n",
        "    def func2(self):\n",
        "        print(\"This function is in the child class.\")\n",
        "\n",
        "obj = Child()\n",
        "obj.func1()\n",
        "obj.func2()\n"
      ],
      "metadata": {
        "colab": {
          "base_uri": "https://localhost:8080/"
        },
        "id": "XqMOxYNO5Y3S",
        "outputId": "51742c8f-dd93-4c56-db51-e5ff6b712921"
      },
      "execution_count": null,
      "outputs": [
        {
          "output_type": "stream",
          "name": "stdout",
          "text": [
            "This function is in the parent class.\n",
            "This function is in the child class.\n"
          ]
        }
      ]
    },
    {
      "cell_type": "code",
      "source": [
        "#2.Multiple Inheritance:\n",
        "#A class can inherit from more than one superclass. In multiple inheritance, all features of the base classes are inherited into the derived class.\n",
        "\n",
        "#Example-\n",
        "\n",
        "class Mother:\n",
        "    def mother(self):\n",
        "        print(\"Mother\")\n",
        "\n",
        "class Father:\n",
        "    def father(self):\n",
        "        print(\"Father\")\n",
        "\n",
        "class Child(Mother, Father):\n",
        "    def child(self):\n",
        "        print(\"Child\")\n",
        "\n",
        "obj = Child()\n",
        "obj.mother()\n",
        "obj.father()\n",
        "obj.child()\n"
      ],
      "metadata": {
        "colab": {
          "base_uri": "https://localhost:8080/"
        },
        "id": "TkcdyKmvTweI",
        "outputId": "b9e125f9-6a1a-4277-9c4d-4737e6f6e329"
      },
      "execution_count": null,
      "outputs": [
        {
          "output_type": "stream",
          "name": "stdout",
          "text": [
            "Mother\n",
            "Father\n",
            "Child\n"
          ]
        }
      ]
    },
    {
      "cell_type": "code",
      "source": [
        "#3.Multilevel Inheritance:\n",
        "#In multilevel inheritance, features of the base class and the derived class are further inherited into a new derived class.\n",
        "\n",
        "#Example-\n",
        "\n",
        "class Grandparent:\n",
        "    def func1(self):\n",
        "        print(\"This function is in the grandparent class.\")\n",
        "\n",
        "class Parent(Grandparent):\n",
        "    def func2(self):\n",
        "        print(\"This function is in the parent class.\")\n",
        "\n",
        "class Child(Parent):\n",
        "    def func3(self):\n",
        "        print(\"This function is in the child class.\")\n",
        "\n",
        "obj = Child()\n",
        "obj.func1()\n",
        "obj.func2()\n",
        "obj.func3()\n"
      ],
      "metadata": {
        "colab": {
          "base_uri": "https://localhost:8080/"
        },
        "id": "W8FGNRTlTw27",
        "outputId": "b84265dc-2894-4a4f-b25e-aac27b888970"
      },
      "execution_count": null,
      "outputs": [
        {
          "output_type": "stream",
          "name": "stdout",
          "text": [
            "This function is in the grandparent class.\n",
            "This function is in the parent class.\n",
            "This function is in the child class.\n"
          ]
        }
      ]
    },
    {
      "cell_type": "code",
      "source": [
        "#4.Hierarchical Inheritance:\n",
        "#In hierarchical inheritance, more than one derived class is created from a single base class.\n",
        "\n",
        "#Example-\n",
        "class Parent:\n",
        "    def func1(self):\n",
        "        print(\"This function is in the parent class.\")\n",
        "\n",
        "class Child1(Parent):\n",
        "    def func2(self):\n",
        "        print(\"This function is in the first child class.\")\n",
        "\n",
        "class Child2(Parent):\n",
        "    def func3(self):\n",
        "        print(\"This function is in the second child class.\")\n",
        "\n",
        "obj1 = Child1()\n",
        "obj2 = Child2()\n",
        "obj1.func1()\n",
        "obj1.func2()\n",
        "obj2.func1()\n",
        "obj2.func3()\n"
      ],
      "metadata": {
        "id": "oA1v3t80UM__"
      },
      "execution_count": null,
      "outputs": []
    },
    {
      "cell_type": "code",
      "source": [
        "#5.Hybrid Inheritance:\n",
        "#Hybrid inheritance combines multiple types of inheritance (e.g., single, multiple, or multilevel) within a single program.\n",
        "\n",
        "#Example-\n",
        "class Parent:\n",
        "    def func1(self):\n",
        "        print(\"This function is in the parent class.\")\n",
        "\n",
        "class Child1(Parent):\n",
        "    def func2(self):\n",
        "        print(\"This function is in the first child class.\")\n",
        "\n",
        "class Child2(Parent):\n",
        "    def func3(self):\n",
        "        print(\"This function is in the second child class.\")\n",
        "\n",
        "obj1 = Child1()\n",
        "obj2 = Child2()\n",
        "obj1.func1()\n",
        "obj1.func2()\n",
        "obj2.func1()\n",
        "obj2.func3()\n"
      ],
      "metadata": {
        "colab": {
          "base_uri": "https://localhost:8080/"
        },
        "id": "sQaC0JFGUNtL",
        "outputId": "56972b96-c2ab-41b1-8506-9d65335143e6"
      },
      "execution_count": null,
      "outputs": [
        {
          "output_type": "stream",
          "name": "stdout",
          "text": [
            "This function is in the parent class.\n",
            "This function is in the first child class.\n",
            "This function is in the parent class.\n",
            "This function is in the second child class.\n"
          ]
        }
      ]
    },
    {
      "cell_type": "code",
      "source": [
        "#Another simple example of Multiple Inheritance:\n",
        "class Mammal:\n",
        "    def mammal_info(self):\n",
        "        print(\"Mammals can give direct birth.\")\n",
        "\n",
        "class WingedAnimal:\n",
        "    def winged_animal_info(self):\n",
        "        print(\"Winged animals can flap.\")\n",
        "\n",
        "class Bat(Mammal, WingedAnimal):\n",
        "    pass\n",
        "\n",
        "my_bat = Bat()\n",
        "my_bat.mammal_info()\n",
        "my_bat.winged_animal_info()\n"
      ],
      "metadata": {
        "colab": {
          "base_uri": "https://localhost:8080/"
        },
        "id": "erBJt1x6Vvqj",
        "outputId": "dc786986-176f-4bc1-a427-64e227af62ec"
      },
      "execution_count": null,
      "outputs": [
        {
          "output_type": "stream",
          "name": "stdout",
          "text": [
            "Mammals can give direct birth.\n",
            "Winged animals can flap.\n"
          ]
        }
      ]
    },
    {
      "cell_type": "code",
      "source": [
        "#Ques:- 7. What is the Method Resolution Order (MRO) in Python? How can you retrieve it programmatically?\n",
        "#Ans-Method Resolution Order (MRO) is a crucial concept in Python, especially when dealing with inheritance and multiple base classes.\n",
        "#It determines the order in which Python searches for methods or attributes within a class hierarchy.\n",
        "\n",
        "#Understanding MRO:\n",
        "#When you call a method on an object, Python looks for that method in the following order:\n",
        "#Within the class of the object itself.\n",
        "#If not found, in the immediate superclass (parent class).\n",
        "#If multiple superclasses exist, Python follows the order specified during inheritance.\n"
      ],
      "metadata": {
        "id": "2ASbBQkV5ZCA"
      },
      "execution_count": null,
      "outputs": []
    },
    {
      "cell_type": "code",
      "source": [
        "#Retrieving MRO Programmatically:\n",
        "\n",
        "#The __mro__ attribute: It provides a tuple representing the MRO.\n",
        "#The mro() method: It returns a list of classes in the order of resolution.\n",
        "\n",
        "#Example-\n",
        "\n",
        "class A:\n",
        "    def dd(self):\n",
        "        print(\"In class A\")\n",
        "\n",
        "class B(A):\n",
        "    def dd(self):\n",
        "        print(\"In class B\")\n",
        "\n",
        "class C(A):\n",
        "    def dd(self):\n",
        "        print(\"In class C\")\n",
        "\n",
        "class D(B, C):\n",
        "    pass\n",
        "\n",
        "obj = D()\n",
        "obj.dd()\n",
        "\n",
        "# Retrieving MRO programmatically\n",
        "print(D.__mro__)\n",
        "print(D.mro())\n"
      ],
      "metadata": {
        "colab": {
          "base_uri": "https://localhost:8080/"
        },
        "id": "uDC21yiFXdwz",
        "outputId": "128b1b56-d534-441a-939a-475b230038da"
      },
      "execution_count": 18,
      "outputs": [
        {
          "output_type": "stream",
          "name": "stdout",
          "text": [
            "In class B\n",
            "(<class '__main__.D'>, <class '__main__.B'>, <class '__main__.C'>, <class '__main__.A'>, <class 'object'>)\n",
            "[<class '__main__.D'>, <class '__main__.B'>, <class '__main__.C'>, <class '__main__.A'>, <class 'object'>]\n"
          ]
        }
      ]
    },
    {
      "cell_type": "code",
      "source": [
        "#Ques:-8. Create an abstract base class 'Shape' with an abstract method 'area()'. Then create two subclasses 'Circle' and 'Rectangle' that implement the 'area()' method.\n",
        "#Ans-An abstract base class called 'Shape' with an abstract method 'area()', and then implement two subclasses: 'Circle' and 'Rectangle'.\n",
        "\n",
        "#Abstract Base Class ‘Shape’:\n",
        "#Define the abstract base class 'Shape' with an abstract method 'area()'. This method will be overridden by its subclasses.\n",
        "#Use the abc module to create an abstract base class.\n",
        "\n",
        "from abc import ABC, abstractmethod\n",
        "\n",
        "class Shape(ABC):\n",
        "    @abstractmethod\n",
        "    def area(self):\n",
        "        pass\n",
        "\n",
        "#Subclass ‘Circle’:\n",
        "#Create a subclass called 'Circle' that inherits from 'Shape'.\n",
        "#The 'Circle' class will implement the 'area()' method for calculating the area of a circle.\n",
        "\n",
        "class Circle(Shape):\n",
        "    def __init__(self, radius):\n",
        "        self.radius = radius\n",
        "\n",
        "    def area(self):\n",
        "        return 3.14 * self.radius ** 2\n",
        "\n",
        "#Subclass ‘Rectangle’:\n",
        "#Create another subclass called 'Rectangle'.\n",
        "#The 'Rectangle' class will also override the 'area()' method to calculate the area of a rectangle.\n",
        "\n",
        "class Rectangle(Shape):\n",
        "    def __init__(self, length, width):\n",
        "        self.length = length\n",
        "        self.width = width\n",
        "\n",
        "    def area(self):\n",
        "        return self.length * self.width\n",
        "\n",
        "#Usage Example:\n",
        "#Create instances of both 'Circle' and 'Rectangle' and calculate their areas:\n",
        "\n",
        "circle = Circle(radius=7)\n",
        "print(f\"Area of the circle: {circle.area()}\")\n",
        "\n",
        "rectangle = Rectangle(length=6, width=8)\n",
        "print(f\"Area of the rectangle: {rectangle.area()}\")"
      ],
      "metadata": {
        "colab": {
          "base_uri": "https://localhost:8080/"
        },
        "id": "XL1twk0u5ZMa",
        "outputId": "7e5f1f83-bf03-4768-b96f-c97c6ddb190e"
      },
      "execution_count": 2,
      "outputs": [
        {
          "output_type": "stream",
          "name": "stdout",
          "text": [
            "Area of the circle: 153.86\n",
            "Area of the rectangle: 48\n"
          ]
        }
      ]
    },
    {
      "cell_type": "code",
      "source": [
        "#Ques:-9. Demonstrate polymorphism by creating a function that can work with different shape objects to calculate and print their areas.\n",
        "#Ans-Polymorphism allows to use a single interface to interact with different types of objects.\n",
        "# Here’s an example  where we define a base class Shape and then create subclasses for different shapes like Circle, Rectangle and Triangle.\n",
        "#Each subclass will have its own implementation of the area method.\n",
        "\n",
        "class Shape:\n",
        "    def area(self):\n",
        "        pass\n",
        "\n",
        "class Rectangle(Shape):\n",
        "    def __init__(self, width, height):\n",
        "        self.width = width\n",
        "        self.height = height\n",
        "\n",
        "    def area(self):\n",
        "        return self.width * self.height\n",
        "\n",
        "class Circle(Shape):\n",
        "    def __init__(self, radius):\n",
        "        self.radius = radius\n",
        "\n",
        "    def area(self):\n",
        "        return 3.14 * self.radius * self.radius\n",
        "\n",
        "class Triangle(Shape):\n",
        "    def __init__(self, base, height):\n",
        "        self.base = base\n",
        "        self.height = height\n",
        "\n",
        "    def area(self):\n",
        "        return 0.5 * self.base * self.height\n",
        "\n",
        "def print_area(shape):\n",
        "    print(f\"The area is: {shape.area()}\")\n",
        "\n",
        "# Create objects of different shapes\n",
        "rectangle = Rectangle(10, 5)\n",
        "circle = Circle(7)\n",
        "triangle = Triangle(6, 8)\n",
        "\n",
        "# Print areas of different shapes\n",
        "print_area(rectangle)\n",
        "print_area(circle)\n",
        "print_area(triangle)\n",
        "\n",
        "#In this-\n",
        "\n",
        "#We define a base class Shape with a method area().\n",
        "#We create three subclasses: Rectangle, Circle, and Triangle, each overriding the area() method to calculate the area specific to that shape.\n",
        "#The print_area() function takes a shape object and prints its area, demonstrating polymorphism by calling the appropriate area() method based on the object’s class"
      ],
      "metadata": {
        "id": "gtm--2f15ZWp"
      },
      "execution_count": null,
      "outputs": []
    },
    {
      "cell_type": "code",
      "source": [
        "#Ques:- 10.Implement encapsulation in a `BankAccount` class with private attributes for `balance` and `account_number`. Include methods for deposit, withdrawal, and balance inquiry.\n",
        "#Ans-An implementation of encapsulation in a BankAccount class with private attributes for balance and account_number. The class includes methods for deposit, withdrawal, and balance inquiry:-\n",
        "\n",
        "class BankAccount:\n",
        "    def __init__(self, account_number, initial_balance=0):\n",
        "        self.__account_number = account_number\n",
        "        self.__balance = initial_balance\n",
        "\n",
        "    def deposit(self, amount):\n",
        "        if amount > 0:\n",
        "            self.__balance += amount\n",
        "            print(f\"Deposited {amount}. Balance is {self.__balance}.\")\n",
        "        else:\n",
        "            print(\"Deposit amount must be positive.\")\n",
        "\n",
        "    def withdraw(self, amount):\n",
        "        if 0 < amount <= self.__balance:\n",
        "            self.__balance -= amount\n",
        "            print(f\"Withdrew {amount}. Balance is {self.__balance}.\")\n",
        "        else:\n",
        "            print(\"Insufficient funds or invalid amount.\")\n",
        "\n",
        "    def get_balance(self):\n",
        "        return self.__balance\n",
        "\n",
        "    def get_account_number(self):\n",
        "        return self.__account_number\n",
        "\n",
        "# Example usage:\n",
        "acc = BankAccount(\"123456789\", 2000)\n",
        "acc.deposit(1000)\n",
        "acc.withdraw(2000)\n",
        "print(f\"Account balance: {acc.get_balance()}\")\n",
        "print(f\"Account number: {acc.get_account_number()}\")\n",
        "\n",
        "#In this-\n",
        "\n",
        "#The __account_number and __balance attributes are private, indicated by the double underscores.\n",
        "#The deposit, withdraw, and get_balance methods provide controlled access to these private attributes.\n",
        "#The get_account_number method allows access to the account number without modifying it.\n"
      ],
      "metadata": {
        "id": "xNAwYwRo5ZgZ",
        "colab": {
          "base_uri": "https://localhost:8080/"
        },
        "outputId": "cb01d75c-d29f-4639-8290-38dc73db57ed"
      },
      "execution_count": 6,
      "outputs": [
        {
          "output_type": "stream",
          "name": "stdout",
          "text": [
            "Deposited 1000. Balance is 3000.\n",
            "Withdrew 2000. Balance is 1000.\n",
            "Account balance: 1000\n",
            "Account number: 123456789\n"
          ]
        }
      ]
    },
    {
      "cell_type": "code",
      "source": [
        "#Ques:-11. Write a class that overrides the `__str__` and `__add__` magic methods. What will these methods allow you to do?\n",
        "#Ans-an example of a Python class that overrides the __str__ and __add__ magic methods:\n",
        "\n",
        "class Point:\n",
        "    def __init__(self, x, y):\n",
        "        self.x = x\n",
        "        self.y = y\n",
        "\n",
        "    def __str__(self):\n",
        "        return f\"Point({self.x}, {self.y})\"\n",
        "\n",
        "    def __add__(self, other):\n",
        "        if isinstance(other, Point):\n",
        "            return Point(self.x + other.x, self.y + other.y)\n",
        "        return NotImplemented\n",
        "\n",
        "# Example usage:\n",
        "p1 = Point(2, 4)\n",
        "p2 = Point(4, 5)\n",
        "p3 = p1 + p2\n",
        "\n",
        "print(p1)\n",
        "print(p3)\n",
        "\n",
        "\n",
        "#__str__ Method:\n",
        "#This method defines how an instance of the class is represented as a string. When you use print() on an instance of the class, the __str__ method is called to get the string representation.\n",
        "#print(p1) outputs Point(1, 2) because the __str__ method returns this formatted string.\n",
        "\n",
        "#__add__ Method:\n",
        "#This method allows you to define the behavior of the + operator for instances of your class. It is called when you use the + operator between two instances of the class.\n",
        "#p1 + p2 creates a new Point instance with the sum of the x and y values of p1 and p2."
      ],
      "metadata": {
        "id": "t-fnonm95ZqH",
        "colab": {
          "base_uri": "https://localhost:8080/"
        },
        "outputId": "58a8d180-cc43-479c-d09c-eda5e138a337"
      },
      "execution_count": 8,
      "outputs": [
        {
          "output_type": "stream",
          "name": "stdout",
          "text": [
            "Point(2, 4)\n",
            "Point(6, 9)\n"
          ]
        }
      ]
    },
    {
      "cell_type": "code",
      "source": [
        "#Ques:-12. Create a decorator that measures and prints the execution time of a function.\n",
        "#Ans-A decorator that measures and prints the execution time of a function:\n",
        "\n",
        "import time\n",
        "\n",
        "def measure_execution_time(func):\n",
        "    def wrapper(*args, **kwargs):\n",
        "        start_time = time.perf_counter()\n",
        "        result = func(*args, **kwargs)\n",
        "        end_time = time.perf_counter()\n",
        "        execution_time = end_time - start_time\n",
        "        print(f\"Function {func.__name__} took {execution_time:.4f} seconds to execute\")\n",
        "        return result\n",
        "    return wrapper\n",
        "\n",
        "#use this decorator by adding @measure_execution_time above any function you want to measure.\n",
        "#For example:\n",
        "\n",
        "@measure_execution_time\n",
        "def example_function():\n",
        "    time.sleep(2)\n",
        "\n",
        "# Call the function\n",
        "example_function()\n",
        "\n",
        "#it will print the execution time of example_function."
      ],
      "metadata": {
        "id": "d-WExXvG5Zz0",
        "colab": {
          "base_uri": "https://localhost:8080/"
        },
        "outputId": "d3bcbdd8-a259-4cd5-c52a-d1bb2147df4c"
      },
      "execution_count": 9,
      "outputs": [
        {
          "output_type": "stream",
          "name": "stdout",
          "text": [
            "Function example_function took 2.0013 seconds to execute\n"
          ]
        }
      ]
    },
    {
      "cell_type": "code",
      "source": [
        "#Ques:-13. Explain the concept of the Diamond Problem in multiple inheritance. How does Python resolve it?\n",
        "#Ans-The diamond problem in multiple inheritance occurs when a class inherits from two classes that both inherit from a single base class.\n",
        "#This can create ambiguity about which method or attribute should be inherited from the base class.\n",
        "\n",
        "#Example:-\n",
        "\n",
        "class A:\n",
        "    def method(self):\n",
        "        print(\"Method in A\")\n",
        "\n",
        "class B(A):\n",
        "    def method(self):\n",
        "        print(\"Method in B\")\n",
        "\n",
        "class C(A):\n",
        "    def method(self):\n",
        "        print(\"Method in C\")\n",
        "\n",
        "class D(B, C):\n",
        "    pass\n",
        "\n",
        "d = D()\n",
        "d.method()\n",
        "\n",
        "#class D inherits from both B and C, which in turn inherit from A. When d.method() is called, it is ambiguous whether the method from B or C should be executed.\n",
        "\n",
        "#How Python Resolves the Diamond Problem:-\n",
        "#Python resolves this ambiguity using the Method Resolution Order (MRO), which is based on the C3 linearization algorithm.\n",
        "#The MRO determines the order in which base classes are searched when executing a method.\n",
        "#The MRO of a class using the __mro__ attribute or the mro() method.\n",
        "\n",
        "print(D.__mro__)\n",
        "\n",
        "#The MRO for class D is D -> B -> C -> A -> object. Therefore, d.method() will call the method from class B because B appears before C in the MRO.\n"
      ],
      "metadata": {
        "id": "sH4JfuXD5Z8k",
        "colab": {
          "base_uri": "https://localhost:8080/"
        },
        "outputId": "f62bf0d9-dfa9-4564-987d-ab753788f490"
      },
      "execution_count": 11,
      "outputs": [
        {
          "output_type": "stream",
          "name": "stdout",
          "text": [
            "Method in B\n",
            "(<class '__main__.D'>, <class '__main__.B'>, <class '__main__.C'>, <class '__main__.A'>, <class 'object'>)\n"
          ]
        }
      ]
    },
    {
      "cell_type": "code",
      "source": [
        "#Ques:-14. Write a class method that keeps track of the number of instances created from a class.\n",
        "#Ans-An example of how you can create a class in Python that keeps track of the number of instances created using a class method:-\n",
        "\n",
        "class MyClass:\n",
        "    # Class variable to keep track of the instance count\n",
        "    instance_count = 0\n",
        "\n",
        "    def __init__(self):\n",
        "        # Increment the instance count when a new instance is created\n",
        "        MyClass.instance_count += 1\n",
        "\n",
        "    @classmethod\n",
        "    def get_instance_count(cls):\n",
        "        return cls.instance_count\n",
        "\n",
        "# Creating instances\n",
        "obj1 = MyClass()\n",
        "obj2 = MyClass()\n",
        "obj3 = MyClass()\n",
        "\n",
        "# Retrieving the instance count\n",
        "print(f\"Number of instances created: {MyClass.get_instance_count()}\")\n",
        "\n",
        "#instance_count is a class variable that keeps track of the number of instances created.\n",
        "#The __init__ method increments this count each time a new instance is created.\n",
        "#The get_instance_count class method returns the current count of instances.\n"
      ],
      "metadata": {
        "id": "RS-jHW8n5aD6"
      },
      "execution_count": null,
      "outputs": []
    },
    {
      "cell_type": "code",
      "source": [
        "#Ques:-15. Implement a static method in a class that checks if a given year is a leap year.\n",
        "#Ans-Create a class with a static method that checks whether a given year is a leap year.\n",
        "#A leap year is one that is evenly divisible by 4 but not divisible by 100 unless it is also divisible by 400.\n",
        "\n",
        "class YearChecker:\n",
        "    @staticmethod\n",
        "    def is_leap_year(year):\n",
        "        return (year % 4 == 0 and year % 100 != 0) or (year % 400 == 0)\n",
        "\n",
        "# Example usage:\n",
        "year = 2024\n",
        "print(f\"{year} is a leap year: {YearChecker.is_leap_year(year)}\")\n",
        "\n",
        "#The is_leap_year method is defined as a static method using the @staticmethod decorator.\n"
      ],
      "metadata": {
        "id": "227LyoRW5aLp",
        "colab": {
          "base_uri": "https://localhost:8080/"
        },
        "outputId": "16ee4f5c-62a1-405e-890b-76ad1eeb9054"
      },
      "execution_count": 17,
      "outputs": [
        {
          "output_type": "stream",
          "name": "stdout",
          "text": [
            "2024 is a leap year: True\n"
          ]
        }
      ]
    },
    {
      "cell_type": "code",
      "source": [],
      "metadata": {
        "id": "JBroyzz85aS3"
      },
      "execution_count": null,
      "outputs": []
    }
  ]
}