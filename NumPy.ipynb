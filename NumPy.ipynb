{
  "nbformat": 4,
  "nbformat_minor": 0,
  "metadata": {
    "colab": {
      "provenance": [],
      "authorship_tag": "ABX9TyO8LP35Wrljb2FB1HPPK2IP",
      "include_colab_link": true
    },
    "kernelspec": {
      "name": "python3",
      "display_name": "Python 3"
    },
    "language_info": {
      "name": "python"
    }
  },
  "cells": [
    {
      "cell_type": "markdown",
      "metadata": {
        "id": "view-in-github",
        "colab_type": "text"
      },
      "source": [
        "<a href=\"https://colab.research.google.com/github/Deepalichaubey/Deepalichaubey/blob/main/NumPy.ipynb\" target=\"_parent\"><img src=\"https://colab.research.google.com/assets/colab-badge.svg\" alt=\"Open In Colab\"/></a>"
      ]
    },
    {
      "cell_type": "code",
      "execution_count": null,
      "metadata": {
        "colab": {
          "base_uri": "https://localhost:8080/"
        },
        "id": "Zuqgt6dgbZX2",
        "outputId": "369630a5-f9c4-4a24-ac37-9b4908fe53fd"
      },
      "outputs": [
        {
          "output_type": "stream",
          "name": "stdout",
          "text": [
            "Original array:\n",
            "[[20  5 77]\n",
            " [ 3 26 91]\n",
            " [69 84  3]]\n",
            "\n",
            "Interchanged array (rows and columns swapped):\n",
            "[[20  3 69]\n",
            " [ 5 26 84]\n",
            " [77 91  3]]\n"
          ]
        }
      ],
      "source": [
        "##Ques:-1. Create a 3x3 NumPy array with random integers between 1 and 100. Then, interchange its rows and columns.\n",
        "#Ans:-Let's Create a 3x3 NumPy array with random integers between 1 and 100, and then interchange its rows and columns:-\n",
        "\n",
        "import numpy as np\n",
        "\n",
        "# Create a 3x3 array with random integers between 1 and 100\n",
        "random_array = np.random.randint(low=1, high=101, size=(3, 3))\n",
        "\n",
        "print(\"Original array:\")\n",
        "print(random_array)\n",
        "\n",
        "# Interchange rows and columns (transpose the array)\n",
        "interchanged_array = random_array.T\n",
        "\n",
        "print(\"\\nInterchanged array (rows and columns swapped):\")\n",
        "print(interchanged_array)\n"
      ]
    }
  ]
}